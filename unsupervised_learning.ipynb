{
 "cells": [
  {
   "cell_type": "code",
   "execution_count": 1,
   "id": "827191d2",
   "metadata": {
    "_cell_guid": "b1076dfc-b9ad-4769-8c92-a6c4dae69d19",
    "_uuid": "8f2839f25d086af736a60e9eeb907d3b93b6e0e5",
    "execution": {
     "iopub.execute_input": "2024-09-19T00:23:24.317202Z",
     "iopub.status.busy": "2024-09-19T00:23:24.316702Z",
     "iopub.status.idle": "2024-09-19T00:23:24.768630Z",
     "shell.execute_reply": "2024-09-19T00:23:24.767470Z"
    },
    "papermill": {
     "duration": 0.466597,
     "end_time": "2024-09-19T00:23:24.771975",
     "exception": false,
     "start_time": "2024-09-19T00:23:24.305378",
     "status": "completed"
    },
    "tags": []
   },
   "outputs": [
    {
     "name": "stdout",
     "output_type": "stream",
     "text": [
      "/kaggle/input/sp-500-stocks/sp500_stocks.csv\n",
      "/kaggle/input/sp-500-stocks/sp500_companies.csv\n",
      "/kaggle/input/sp-500-stocks/sp500_index.csv\n"
     ]
    }
   ],
   "source": [
    "# This Python 3 environment comes with many helpful analytics libraries installed\n",
    "# It is defined by the kaggle/python Docker image: https://github.com/kaggle/docker-python\n",
    "# For example, here's several helpful packages to load\n",
    "\n",
    "import numpy as np # linear algebra\n",
    "import pandas as pd # data processing, CSV file I/O (e.g. pd.read_csv)\n",
    "\n",
    "# Input data files are available in the read-only \"../input/\" directory\n",
    "# For example, running this (by clicking run or pressing Shift+Enter) will list all files under the input directory\n",
    "\n",
    "import os\n",
    "for dirname, _, filenames in os.walk('/kaggle/input'):\n",
    "    for filename in filenames:\n",
    "        print(os.path.join(dirname, filename))\n",
    "\n",
    "# You can write up to 20GB to the current directory (/kaggle/working/) that gets preserved as output when you create a version using \"Save & Run All\" \n",
    "# You can also write temporary files to /kaggle/temp/, but they won't be saved outside of the current session"
   ]
  },
  {
   "cell_type": "markdown",
   "id": "46960d06",
   "metadata": {
    "papermill": {
     "duration": 0.008437,
     "end_time": "2024-09-19T00:23:24.792725",
     "exception": false,
     "start_time": "2024-09-19T00:23:24.784288",
     "status": "completed"
    },
    "tags": []
   },
   "source": [
    "# Explatory Data Analysis (EDA)\n",
    "\n",
    "***Let's start by loading and exploring the dataset.***\n",
    "\n",
    "* It provides an overview of the dataset and the steps that will be taken for analysis.\n",
    "* EDA is crucial to understand the structure, trends, and patterns within the data before applying any machine learning models."
   ]
  },
  {
   "cell_type": "code",
   "execution_count": 2,
   "id": "c84bd52d",
   "metadata": {
    "execution": {
     "iopub.execute_input": "2024-09-19T00:23:24.813948Z",
     "iopub.status.busy": "2024-09-19T00:23:24.812792Z",
     "iopub.status.idle": "2024-09-19T00:23:29.751162Z",
     "shell.execute_reply": "2024-09-19T00:23:29.750063Z"
    },
    "papermill": {
     "duration": 4.952557,
     "end_time": "2024-09-19T00:23:29.753971",
     "exception": false,
     "start_time": "2024-09-19T00:23:24.801414",
     "status": "completed"
    },
    "tags": []
   },
   "outputs": [
    {
     "name": "stdout",
     "output_type": "stream",
     "text": [
      "<class 'pandas.core.frame.DataFrame'>\n",
      "RangeIndex: 1862106 entries, 0 to 1862105\n",
      "Data columns (total 8 columns):\n",
      " #   Column     Dtype  \n",
      "---  ------     -----  \n",
      " 0   Date       object \n",
      " 1   Symbol     object \n",
      " 2   Adj Close  float64\n",
      " 3   Close      float64\n",
      " 4   High       float64\n",
      " 5   Low        float64\n",
      " 6   Open       float64\n",
      " 7   Volume     float64\n",
      "dtypes: float64(6), object(2)\n",
      "memory usage: 113.7+ MB\n"
     ]
    }
   ],
   "source": [
    "import pandas as pd\n",
    "import numpy as np\n",
    "\n",
    "# read file\n",
    "df = pd.read_csv('/kaggle/input/sp-500-stocks/sp500_stocks.csv')\n",
    "\n",
    "# give me information about column, entries and size\n",
    "df.info()"
   ]
  },
  {
   "cell_type": "markdown",
   "id": "f84ade5b",
   "metadata": {
    "papermill": {
     "duration": 0.008835,
     "end_time": "2024-09-19T00:23:29.771722",
     "exception": false,
     "start_time": "2024-09-19T00:23:29.762887",
     "status": "completed"
    },
    "tags": []
   },
   "source": [
    "**Let's dive into first 5 rows of the dataset.**"
   ]
  },
  {
   "cell_type": "code",
   "execution_count": 3,
   "id": "7529b14b",
   "metadata": {
    "execution": {
     "iopub.execute_input": "2024-09-19T00:23:29.795629Z",
     "iopub.status.busy": "2024-09-19T00:23:29.794955Z",
     "iopub.status.idle": "2024-09-19T00:23:29.820963Z",
     "shell.execute_reply": "2024-09-19T00:23:29.819695Z"
    },
    "papermill": {
     "duration": 0.045534,
     "end_time": "2024-09-19T00:23:29.827338",
     "exception": false,
     "start_time": "2024-09-19T00:23:29.781804",
     "status": "completed"
    },
    "tags": []
   },
   "outputs": [
    {
     "data": {
      "text/html": [
       "<div>\n",
       "<style scoped>\n",
       "    .dataframe tbody tr th:only-of-type {\n",
       "        vertical-align: middle;\n",
       "    }\n",
       "\n",
       "    .dataframe tbody tr th {\n",
       "        vertical-align: top;\n",
       "    }\n",
       "\n",
       "    .dataframe thead th {\n",
       "        text-align: right;\n",
       "    }\n",
       "</style>\n",
       "<table border=\"1\" class=\"dataframe\">\n",
       "  <thead>\n",
       "    <tr style=\"text-align: right;\">\n",
       "      <th></th>\n",
       "      <th>Date</th>\n",
       "      <th>Symbol</th>\n",
       "      <th>Adj Close</th>\n",
       "      <th>Close</th>\n",
       "      <th>High</th>\n",
       "      <th>Low</th>\n",
       "      <th>Open</th>\n",
       "      <th>Volume</th>\n",
       "    </tr>\n",
       "  </thead>\n",
       "  <tbody>\n",
       "    <tr>\n",
       "      <th>0</th>\n",
       "      <td>2010-01-04</td>\n",
       "      <td>MMM</td>\n",
       "      <td>46.422302</td>\n",
       "      <td>69.414719</td>\n",
       "      <td>69.774246</td>\n",
       "      <td>69.122070</td>\n",
       "      <td>69.473244</td>\n",
       "      <td>3640265.0</td>\n",
       "    </tr>\n",
       "    <tr>\n",
       "      <th>1</th>\n",
       "      <td>2010-01-05</td>\n",
       "      <td>MMM</td>\n",
       "      <td>46.131523</td>\n",
       "      <td>68.979935</td>\n",
       "      <td>69.590302</td>\n",
       "      <td>68.311035</td>\n",
       "      <td>69.230766</td>\n",
       "      <td>3405012.0</td>\n",
       "    </tr>\n",
       "    <tr>\n",
       "      <th>2</th>\n",
       "      <td>2010-01-06</td>\n",
       "      <td>MMM</td>\n",
       "      <td>46.785759</td>\n",
       "      <td>69.958191</td>\n",
       "      <td>70.735786</td>\n",
       "      <td>69.824417</td>\n",
       "      <td>70.133781</td>\n",
       "      <td>6301126.0</td>\n",
       "    </tr>\n",
       "    <tr>\n",
       "      <th>3</th>\n",
       "      <td>2010-01-07</td>\n",
       "      <td>MMM</td>\n",
       "      <td>46.819294</td>\n",
       "      <td>70.008362</td>\n",
       "      <td>70.033447</td>\n",
       "      <td>68.662209</td>\n",
       "      <td>69.665550</td>\n",
       "      <td>5346240.0</td>\n",
       "    </tr>\n",
       "    <tr>\n",
       "      <th>4</th>\n",
       "      <td>2010-01-08</td>\n",
       "      <td>MMM</td>\n",
       "      <td>47.149204</td>\n",
       "      <td>70.501671</td>\n",
       "      <td>70.501671</td>\n",
       "      <td>69.648827</td>\n",
       "      <td>69.974915</td>\n",
       "      <td>4073337.0</td>\n",
       "    </tr>\n",
       "  </tbody>\n",
       "</table>\n",
       "</div>"
      ],
      "text/plain": [
       "         Date Symbol  Adj Close      Close       High        Low       Open  \\\n",
       "0  2010-01-04    MMM  46.422302  69.414719  69.774246  69.122070  69.473244   \n",
       "1  2010-01-05    MMM  46.131523  68.979935  69.590302  68.311035  69.230766   \n",
       "2  2010-01-06    MMM  46.785759  69.958191  70.735786  69.824417  70.133781   \n",
       "3  2010-01-07    MMM  46.819294  70.008362  70.033447  68.662209  69.665550   \n",
       "4  2010-01-08    MMM  47.149204  70.501671  70.501671  69.648827  69.974915   \n",
       "\n",
       "      Volume  \n",
       "0  3640265.0  \n",
       "1  3405012.0  \n",
       "2  6301126.0  \n",
       "3  5346240.0  \n",
       "4  4073337.0  "
      ]
     },
     "execution_count": 3,
     "metadata": {},
     "output_type": "execute_result"
    }
   ],
   "source": [
    "# displays first five rows\n",
    "df.head()"
   ]
  },
  {
   "cell_type": "markdown",
   "id": "768899e5",
   "metadata": {
    "papermill": {
     "duration": 0.010052,
     "end_time": "2024-09-19T00:23:29.849248",
     "exception": false,
     "start_time": "2024-09-19T00:23:29.839196",
     "status": "completed"
    },
    "tags": []
   },
   "source": [
    "**Explatory information such as count, mean, std etc.**"
   ]
  },
  {
   "cell_type": "code",
   "execution_count": 4,
   "id": "812f65c5",
   "metadata": {
    "execution": {
     "iopub.execute_input": "2024-09-19T00:23:29.869622Z",
     "iopub.status.busy": "2024-09-19T00:23:29.869197Z",
     "iopub.status.idle": "2024-09-19T00:23:30.457587Z",
     "shell.execute_reply": "2024-09-19T00:23:30.456370Z"
    },
    "papermill": {
     "duration": 0.60155,
     "end_time": "2024-09-19T00:23:30.460023",
     "exception": false,
     "start_time": "2024-09-19T00:23:29.858473",
     "status": "completed"
    },
    "tags": []
   },
   "outputs": [
    {
     "data": {
      "text/html": [
       "<div>\n",
       "<style scoped>\n",
       "    .dataframe tbody tr th:only-of-type {\n",
       "        vertical-align: middle;\n",
       "    }\n",
       "\n",
       "    .dataframe tbody tr th {\n",
       "        vertical-align: top;\n",
       "    }\n",
       "\n",
       "    .dataframe thead th {\n",
       "        text-align: right;\n",
       "    }\n",
       "</style>\n",
       "<table border=\"1\" class=\"dataframe\">\n",
       "  <thead>\n",
       "    <tr style=\"text-align: right;\">\n",
       "      <th></th>\n",
       "      <th>Adj Close</th>\n",
       "      <th>Close</th>\n",
       "      <th>High</th>\n",
       "      <th>Low</th>\n",
       "      <th>Open</th>\n",
       "      <th>Volume</th>\n",
       "    </tr>\n",
       "  </thead>\n",
       "  <tbody>\n",
       "    <tr>\n",
       "      <th>count</th>\n",
       "      <td>1.767227e+06</td>\n",
       "      <td>1.767227e+06</td>\n",
       "      <td>1.767227e+06</td>\n",
       "      <td>1.767227e+06</td>\n",
       "      <td>1.767227e+06</td>\n",
       "      <td>1.767227e+06</td>\n",
       "    </tr>\n",
       "    <tr>\n",
       "      <th>mean</th>\n",
       "      <td>9.606277e+01</td>\n",
       "      <td>1.037073e+02</td>\n",
       "      <td>1.048416e+02</td>\n",
       "      <td>1.025167e+02</td>\n",
       "      <td>1.036881e+02</td>\n",
       "      <td>6.967322e+06</td>\n",
       "    </tr>\n",
       "    <tr>\n",
       "      <th>std</th>\n",
       "      <td>2.078800e+02</td>\n",
       "      <td>2.081959e+02</td>\n",
       "      <td>2.106089e+02</td>\n",
       "      <td>2.057010e+02</td>\n",
       "      <td>2.081104e+02</td>\n",
       "      <td>3.311703e+07</td>\n",
       "    </tr>\n",
       "    <tr>\n",
       "      <th>min</th>\n",
       "      <td>2.036070e-01</td>\n",
       "      <td>2.220000e-01</td>\n",
       "      <td>2.262500e-01</td>\n",
       "      <td>2.162500e-01</td>\n",
       "      <td>2.180000e-01</td>\n",
       "      <td>0.000000e+00</td>\n",
       "    </tr>\n",
       "    <tr>\n",
       "      <th>25%</th>\n",
       "      <td>2.862669e+01</td>\n",
       "      <td>3.472000e+01</td>\n",
       "      <td>3.510000e+01</td>\n",
       "      <td>3.432000e+01</td>\n",
       "      <td>3.472000e+01</td>\n",
       "      <td>1.009900e+06</td>\n",
       "    </tr>\n",
       "    <tr>\n",
       "      <th>50%</th>\n",
       "      <td>5.320979e+01</td>\n",
       "      <td>6.222000e+01</td>\n",
       "      <td>6.285000e+01</td>\n",
       "      <td>6.155000e+01</td>\n",
       "      <td>6.221000e+01</td>\n",
       "      <td>2.193400e+06</td>\n",
       "    </tr>\n",
       "    <tr>\n",
       "      <th>75%</th>\n",
       "      <td>1.024585e+02</td>\n",
       "      <td>1.126351e+02</td>\n",
       "      <td>1.138000e+02</td>\n",
       "      <td>1.114100e+02</td>\n",
       "      <td>1.126200e+02</td>\n",
       "      <td>5.010600e+06</td>\n",
       "    </tr>\n",
       "    <tr>\n",
       "      <th>max</th>\n",
       "      <td>9.485570e+03</td>\n",
       "      <td>9.485570e+03</td>\n",
       "      <td>9.607745e+03</td>\n",
       "      <td>9.437280e+03</td>\n",
       "      <td>9.475010e+03</td>\n",
       "      <td>3.692928e+09</td>\n",
       "    </tr>\n",
       "  </tbody>\n",
       "</table>\n",
       "</div>"
      ],
      "text/plain": [
       "          Adj Close         Close          High           Low          Open  \\\n",
       "count  1.767227e+06  1.767227e+06  1.767227e+06  1.767227e+06  1.767227e+06   \n",
       "mean   9.606277e+01  1.037073e+02  1.048416e+02  1.025167e+02  1.036881e+02   \n",
       "std    2.078800e+02  2.081959e+02  2.106089e+02  2.057010e+02  2.081104e+02   \n",
       "min    2.036070e-01  2.220000e-01  2.262500e-01  2.162500e-01  2.180000e-01   \n",
       "25%    2.862669e+01  3.472000e+01  3.510000e+01  3.432000e+01  3.472000e+01   \n",
       "50%    5.320979e+01  6.222000e+01  6.285000e+01  6.155000e+01  6.221000e+01   \n",
       "75%    1.024585e+02  1.126351e+02  1.138000e+02  1.114100e+02  1.126200e+02   \n",
       "max    9.485570e+03  9.485570e+03  9.607745e+03  9.437280e+03  9.475010e+03   \n",
       "\n",
       "             Volume  \n",
       "count  1.767227e+06  \n",
       "mean   6.967322e+06  \n",
       "std    3.311703e+07  \n",
       "min    0.000000e+00  \n",
       "25%    1.009900e+06  \n",
       "50%    2.193400e+06  \n",
       "75%    5.010600e+06  \n",
       "max    3.692928e+09  "
      ]
     },
     "execution_count": 4,
     "metadata": {},
     "output_type": "execute_result"
    }
   ],
   "source": [
    "# basic statistical description of the data\n",
    "df.describe()"
   ]
  },
  {
   "cell_type": "markdown",
   "id": "069e409c",
   "metadata": {
    "papermill": {
     "duration": 0.009109,
     "end_time": "2024-09-19T00:23:30.478539",
     "exception": false,
     "start_time": "2024-09-19T00:23:30.469430",
     "status": "completed"
    },
    "tags": []
   },
   "source": [
    "**Below cell shows which variables have how many null values and changes them with median value.**\n",
    "\n",
    "* Handling missing values is the next step of the process.\n",
    "* The upcoming code will check for null values and replace them with the **median value,** the best practice for dealing with missing data."
   ]
  },
  {
   "cell_type": "code",
   "execution_count": 5,
   "id": "af01ba79",
   "metadata": {
    "execution": {
     "iopub.execute_input": "2024-09-19T00:23:30.499798Z",
     "iopub.status.busy": "2024-09-19T00:23:30.498802Z",
     "iopub.status.idle": "2024-09-19T00:23:31.369083Z",
     "shell.execute_reply": "2024-09-19T00:23:31.367645Z"
    },
    "papermill": {
     "duration": 0.883465,
     "end_time": "2024-09-19T00:23:31.371664",
     "exception": false,
     "start_time": "2024-09-19T00:23:30.488199",
     "status": "completed"
    },
    "tags": []
   },
   "outputs": [
    {
     "name": "stdout",
     "output_type": "stream",
     "text": [
      "Date             0\n",
      "Symbol           0\n",
      "Adj Close    94879\n",
      "Close        94879\n",
      "High         94879\n",
      "Low          94879\n",
      "Open         94879\n",
      "Volume       94879\n",
      "dtype: int64\n",
      "Adj Close    0\n",
      "Close        0\n",
      "High         0\n",
      "Low          0\n",
      "Open         0\n",
      "Volume       0\n",
      "dtype: int64\n"
     ]
    }
   ],
   "source": [
    "# check for missing values\n",
    "print(df.isnull().sum())\n",
    "\n",
    "# select only numeric columns for imputation\n",
    "numeric_columns = df.select_dtypes(include=[np.number]).columns\n",
    "\n",
    "# fill missing values for numeric columns with the median\n",
    "df[numeric_columns] = df[numeric_columns].fillna(df[numeric_columns].median())\n",
    "\n",
    "# verify that there are no more missing values in the numeric columns\n",
    "print(df[numeric_columns].isnull().sum())"
   ]
  },
  {
   "cell_type": "markdown",
   "id": "91780953",
   "metadata": {
    "papermill": {
     "duration": 0.009399,
     "end_time": "2024-09-19T00:23:31.390730",
     "exception": false,
     "start_time": "2024-09-19T00:23:31.381331",
     "status": "completed"
    },
    "tags": []
   },
   "source": [
    "**Categorical missing values will be filled with the label 'Unknown' to ensure no missing data remains in the dataset.**"
   ]
  },
  {
   "cell_type": "code",
   "execution_count": 6,
   "id": "fa155a0c",
   "metadata": {
    "execution": {
     "iopub.execute_input": "2024-09-19T00:23:31.411770Z",
     "iopub.status.busy": "2024-09-19T00:23:31.411016Z",
     "iopub.status.idle": "2024-09-19T00:23:32.016145Z",
     "shell.execute_reply": "2024-09-19T00:23:32.015056Z"
    },
    "papermill": {
     "duration": 0.618805,
     "end_time": "2024-09-19T00:23:32.019011",
     "exception": false,
     "start_time": "2024-09-19T00:23:31.400206",
     "status": "completed"
    },
    "tags": []
   },
   "outputs": [],
   "source": [
    "# handle missing values for categorical columns\n",
    "categorical_columns = df.select_dtypes(include=['object']).columns\n",
    "df[categorical_columns] = df[categorical_columns].fillna('Unknown')"
   ]
  },
  {
   "cell_type": "markdown",
   "id": "1c92426c",
   "metadata": {
    "papermill": {
     "duration": 0.009698,
     "end_time": "2024-09-19T00:23:32.038460",
     "exception": false,
     "start_time": "2024-09-19T00:23:32.028762",
     "status": "completed"
    },
    "tags": []
   },
   "source": [
    "# Data Preparation for Clustering\n",
    "**We will prepare the dataset for clustering by selecting the relevant features and normalizing the data.**"
   ]
  },
  {
   "cell_type": "markdown",
   "id": "84f19f1f",
   "metadata": {
    "papermill": {
     "duration": 0.009407,
     "end_time": "2024-09-19T00:23:32.058163",
     "exception": false,
     "start_time": "2024-09-19T00:23:32.048756",
     "status": "completed"
    },
    "tags": []
   },
   "source": [
    "* Below code adds new features **('Price Change', 'Pct Change', 'Volatility')** to capture stock price variations and volatility.\n",
    "* It then selects **numeric columns for clustering** and standardizes them using **StandardScaler** to ensure all features are on the same scale.\n",
    "* The first five rows of the scaled features are displayed to verify the transformation."
   ]
  },
  {
   "cell_type": "code",
   "execution_count": 7,
   "id": "57eb96b4",
   "metadata": {
    "execution": {
     "iopub.execute_input": "2024-09-19T00:23:32.079661Z",
     "iopub.status.busy": "2024-09-19T00:23:32.079225Z",
     "iopub.status.idle": "2024-09-19T00:23:34.068529Z",
     "shell.execute_reply": "2024-09-19T00:23:34.067456Z"
    },
    "papermill": {
     "duration": 2.002758,
     "end_time": "2024-09-19T00:23:34.070816",
     "exception": false,
     "start_time": "2024-09-19T00:23:32.068058",
     "status": "completed"
    },
    "tags": []
   },
   "outputs": [
    {
     "data": {
      "text/plain": [
       "array([[-0.23408525, -0.15849426, -0.16032562, -0.15607249, -0.15817848,\n",
       "        -0.09553513, -0.02183513, -0.07285455, -0.2887233 ],\n",
       "       [-0.23551954, -0.16063576, -0.16122124, -0.16011565, -0.15937327,\n",
       "        -0.10282316, -0.07616036, -0.24943445, -0.17699949],\n",
       "       [-0.23229247, -0.15581742, -0.15564387, -0.15257116, -0.1549237 ,\n",
       "        -0.01310289, -0.05490528, -0.17834606, -0.24254483],\n",
       "       [-0.23212706, -0.1555703 , -0.15906356, -0.15836498, -0.15723089,\n",
       "        -0.04268482,  0.09153962,  0.29312043, -0.16061349],\n",
       "       [-0.23049975, -0.15314054, -0.15678378, -0.15344651, -0.15570651,\n",
       "        -0.08211876,  0.14350269,  0.45866734, -0.25297179]])"
      ]
     },
     "execution_count": 7,
     "metadata": {},
     "output_type": "execute_result"
    }
   ],
   "source": [
    "from sklearn.preprocessing import StandardScaler\n",
    "\n",
    "df['Price Change'] = df['Close'] - df['Open']\n",
    "df['Pct Change'] = ((df['Close'] - df['Open']) / df['Open']) * 100\n",
    "df['Volatility'] = df['High'] - df['Low']\n",
    "\n",
    "# select numerical features for clustering\n",
    "clustering_features = df[['Open', 'High', 'Low', 'Volume', 'Price Change', 'Pct Change', 'Volatility']]\n",
    "\n",
    "numeric_columns = df.select_dtypes(include=[np.number]).columns\n",
    "clustering_features = df[numeric_columns]\n",
    "\n",
    "# standardize the data\n",
    "scaler = StandardScaler()\n",
    "scaled_features = scaler.fit_transform(clustering_features)\n",
    "\n",
    "# check the scaled features\n",
    "scaled_features[:5]  # Display the first 5 scaled rows"
   ]
  },
  {
   "cell_type": "markdown",
   "id": "ffe3a89c",
   "metadata": {
    "papermill": {
     "duration": 0.009613,
     "end_time": "2024-09-19T00:23:34.090121",
     "exception": false,
     "start_time": "2024-09-19T00:23:34.080508",
     "status": "completed"
    },
    "tags": []
   },
   "source": [
    "# Scaling the Features\n",
    "\n",
    "**Scaling the features ensures that each feature contributes equally to the clustering process by standardizing them to have the same range (usually between 0 and 1 or with a mean of 0 and standard deviation of 1).**"
   ]
  },
  {
   "cell_type": "code",
   "execution_count": 8,
   "id": "26635d32",
   "metadata": {
    "execution": {
     "iopub.execute_input": "2024-09-19T00:23:34.111693Z",
     "iopub.status.busy": "2024-09-19T00:23:34.111100Z",
     "iopub.status.idle": "2024-09-19T00:23:34.464885Z",
     "shell.execute_reply": "2024-09-19T00:23:34.463859Z"
    },
    "papermill": {
     "duration": 0.367622,
     "end_time": "2024-09-19T00:23:34.467468",
     "exception": false,
     "start_time": "2024-09-19T00:23:34.099846",
     "status": "completed"
    },
    "tags": []
   },
   "outputs": [],
   "source": [
    "from sklearn.preprocessing import StandardScaler\n",
    "scaler = StandardScaler()\n",
    "scaled_features = scaler.fit_transform(clustering_features)"
   ]
  },
  {
   "cell_type": "markdown",
   "id": "aa82f70f",
   "metadata": {
    "papermill": {
     "duration": 0.009447,
     "end_time": "2024-09-19T00:23:34.486728",
     "exception": false,
     "start_time": "2024-09-19T00:23:34.477281",
     "status": "completed"
    },
    "tags": []
   },
   "source": [
    "# K-Means Clustering\n",
    "**This cell implements K-Means clustering to group companies based on their stock performance.** "
   ]
  },
  {
   "cell_type": "markdown",
   "id": "0dd38b84",
   "metadata": {
    "papermill": {
     "duration": 0.009435,
     "end_time": "2024-09-19T00:23:34.505847",
     "exception": false,
     "start_time": "2024-09-19T00:23:34.496412",
     "status": "completed"
    },
    "tags": []
   },
   "source": [
    "* Below code uses the **elbow method** to find the **optimal number of clusters for K-Means** by iterating over a range of k values.\n",
    "* **The inertia (sum of squared distances to the nearest cluster center)** is computed for each k and stored for comparison.\n",
    "* **n_init** is explicitly set to 10 for stable results, and random_state ensures reproducibility.\n"
   ]
  },
  {
   "cell_type": "code",
   "execution_count": 9,
   "id": "c37e6d87",
   "metadata": {
    "execution": {
     "iopub.execute_input": "2024-09-19T00:23:34.526796Z",
     "iopub.status.busy": "2024-09-19T00:23:34.526345Z",
     "iopub.status.idle": "2024-09-19T00:27:11.091291Z",
     "shell.execute_reply": "2024-09-19T00:27:11.090004Z"
    },
    "papermill": {
     "duration": 216.579157,
     "end_time": "2024-09-19T00:27:11.094601",
     "exception": false,
     "start_time": "2024-09-19T00:23:34.515444",
     "status": "completed"
    },
    "tags": []
   },
   "outputs": [],
   "source": [
    "from sklearn.cluster import KMeans\n",
    "import matplotlib.pyplot as plt\n",
    "\n",
    "# elbow method to find the optimal number of clusters\n",
    "inertia = []\n",
    "k_range = range(1, 11)\n",
    "for k in k_range:\n",
    "    kmeans = KMeans(n_clusters=k, random_state=42, n_init=10)  # Explicitly set n_init\n",
    "    kmeans.fit(scaled_features)\n",
    "    inertia.append(kmeans.inertia_)"
   ]
  },
  {
   "cell_type": "markdown",
   "id": "6dac0fe1",
   "metadata": {
    "papermill": {
     "duration": 0.009756,
     "end_time": "2024-09-19T00:27:11.114477",
     "exception": false,
     "start_time": "2024-09-19T00:27:11.104721",
     "status": "completed"
    },
    "tags": []
   },
   "source": [
    "**Visualize Elbow Curve**\n",
    "\n",
    "* **Visualization of the elbow curve,** plotting the number of **clusters (k)** against the inertia to identify the optimal k.\n",
    "* The **elbow point (where inertia starts to decrease more slowly)** indicates the best number of clusters.\n",
    "* The curve bends sharply around **4 clusters,** indicating a significant reduction in inertia at that point."
   ]
  },
  {
   "cell_type": "code",
   "execution_count": 10,
   "id": "2d1728f4",
   "metadata": {
    "execution": {
     "iopub.execute_input": "2024-09-19T00:27:11.136459Z",
     "iopub.status.busy": "2024-09-19T00:27:11.135971Z",
     "iopub.status.idle": "2024-09-19T00:27:11.474630Z",
     "shell.execute_reply": "2024-09-19T00:27:11.473393Z"
    },
    "papermill": {
     "duration": 0.353343,
     "end_time": "2024-09-19T00:27:11.477737",
     "exception": false,
     "start_time": "2024-09-19T00:27:11.124394",
     "status": "completed"
    },
    "tags": []
   },
   "outputs": [
    {
     "data": {
      "image/png": "[encoded data removed]",
      "text/plain": [
       "<Figure size 800x500 with 1 Axes>"
      ]
     },
     "metadata": {},
     "output_type": "display_data"
    }
   ],
   "source": [
    "# plotting the elbow curve\n",
    "plt.figure(figsize=(8, 5))\n",
    "plt.plot(k_range, inertia, 'bo-', markersize=8)\n",
    "plt.title('Elbow Method for Optimal Number of Clusters')\n",
    "plt.xlabel('Number of Clusters (k)')\n",
    "plt.ylabel('Inertia')\n",
    "plt.grid(True)\n",
    "plt.show()"
   ]
  },
  {
   "cell_type": "markdown",
   "id": "5416a1a0",
   "metadata": {
    "papermill": {
     "duration": 0.010252,
     "end_time": "2024-09-19T00:27:11.498450",
     "exception": false,
     "start_time": "2024-09-19T00:27:11.488198",
     "status": "completed"
    },
    "tags": []
   },
   "source": [
    "* KMeans clustering to the scaled features using **4 clusters (as determined by the elbow method).**\n",
    "* After fitting the KMeans model, **the cluster labels** are assigned to each data point.\n",
    "* The labels are added as a new column **('Cluster')** in the original DataFrame, and the first few rows with the cluster labels are displayed."
   ]
  },
  {
   "cell_type": "code",
   "execution_count": 11,
   "id": "e8ce78e7",
   "metadata": {
    "execution": {
     "iopub.execute_input": "2024-09-19T00:27:11.521778Z",
     "iopub.status.busy": "2024-09-19T00:27:11.520850Z",
     "iopub.status.idle": "2024-09-19T00:27:24.755281Z",
     "shell.execute_reply": "2024-09-19T00:27:24.753957Z"
    },
    "papermill": {
     "duration": 13.24931,
     "end_time": "2024-09-19T00:27:24.758064",
     "exception": false,
     "start_time": "2024-09-19T00:27:11.508754",
     "status": "completed"
    },
    "tags": []
   },
   "outputs": [
    {
     "data": {
      "text/html": [
       "<div>\n",
       "<style scoped>\n",
       "    .dataframe tbody tr th:only-of-type {\n",
       "        vertical-align: middle;\n",
       "    }\n",
       "\n",
       "    .dataframe tbody tr th {\n",
       "        vertical-align: top;\n",
       "    }\n",
       "\n",
       "    .dataframe thead th {\n",
       "        text-align: right;\n",
       "    }\n",
       "</style>\n",
       "<table border=\"1\" class=\"dataframe\">\n",
       "  <thead>\n",
       "    <tr style=\"text-align: right;\">\n",
       "      <th></th>\n",
       "      <th>Date</th>\n",
       "      <th>Symbol</th>\n",
       "      <th>Adj Close</th>\n",
       "      <th>Close</th>\n",
       "      <th>High</th>\n",
       "      <th>Low</th>\n",
       "      <th>Open</th>\n",
       "      <th>Volume</th>\n",
       "      <th>Price Change</th>\n",
       "      <th>Pct Change</th>\n",
       "      <th>Volatility</th>\n",
       "      <th>Cluster</th>\n",
       "    </tr>\n",
       "  </thead>\n",
       "  <tbody>\n",
       "    <tr>\n",
       "      <th>0</th>\n",
       "      <td>2010-01-04</td>\n",
       "      <td>MMM</td>\n",
       "      <td>46.422302</td>\n",
       "      <td>69.414719</td>\n",
       "      <td>69.774246</td>\n",
       "      <td>69.122070</td>\n",
       "      <td>69.473244</td>\n",
       "      <td>3640265.0</td>\n",
       "      <td>-0.058525</td>\n",
       "      <td>-0.084241</td>\n",
       "      <td>0.652176</td>\n",
       "      <td>0</td>\n",
       "    </tr>\n",
       "    <tr>\n",
       "      <th>1</th>\n",
       "      <td>2010-01-05</td>\n",
       "      <td>MMM</td>\n",
       "      <td>46.131523</td>\n",
       "      <td>68.979935</td>\n",
       "      <td>69.590302</td>\n",
       "      <td>68.311035</td>\n",
       "      <td>69.230766</td>\n",
       "      <td>3405012.0</td>\n",
       "      <td>-0.250832</td>\n",
       "      <td>-0.362312</td>\n",
       "      <td>1.279266</td>\n",
       "      <td>0</td>\n",
       "    </tr>\n",
       "    <tr>\n",
       "      <th>2</th>\n",
       "      <td>2010-01-06</td>\n",
       "      <td>MMM</td>\n",
       "      <td>46.785759</td>\n",
       "      <td>69.958191</td>\n",
       "      <td>70.735786</td>\n",
       "      <td>69.824417</td>\n",
       "      <td>70.133781</td>\n",
       "      <td>6301126.0</td>\n",
       "      <td>-0.175591</td>\n",
       "      <td>-0.250365</td>\n",
       "      <td>0.911369</td>\n",
       "      <td>0</td>\n",
       "    </tr>\n",
       "    <tr>\n",
       "      <th>3</th>\n",
       "      <td>2010-01-07</td>\n",
       "      <td>MMM</td>\n",
       "      <td>46.819294</td>\n",
       "      <td>70.008362</td>\n",
       "      <td>70.033447</td>\n",
       "      <td>68.662209</td>\n",
       "      <td>69.665550</td>\n",
       "      <td>5346240.0</td>\n",
       "      <td>0.342812</td>\n",
       "      <td>0.492082</td>\n",
       "      <td>1.371239</td>\n",
       "      <td>0</td>\n",
       "    </tr>\n",
       "    <tr>\n",
       "      <th>4</th>\n",
       "      <td>2010-01-08</td>\n",
       "      <td>MMM</td>\n",
       "      <td>47.149204</td>\n",
       "      <td>70.501671</td>\n",
       "      <td>70.501671</td>\n",
       "      <td>69.648827</td>\n",
       "      <td>69.974915</td>\n",
       "      <td>4073337.0</td>\n",
       "      <td>0.526756</td>\n",
       "      <td>0.752779</td>\n",
       "      <td>0.852844</td>\n",
       "      <td>0</td>\n",
       "    </tr>\n",
       "  </tbody>\n",
       "</table>\n",
       "</div>"
      ],
      "text/plain": [
       "         Date Symbol  Adj Close      Close       High        Low       Open  \\\n",
       "0  2010-01-04    MMM  46.422302  69.414719  69.774246  69.122070  69.473244   \n",
       "1  2010-01-05    MMM  46.131523  68.979935  69.590302  68.311035  69.230766   \n",
       "2  2010-01-06    MMM  46.785759  69.958191  70.735786  69.824417  70.133781   \n",
       "3  2010-01-07    MMM  46.819294  70.008362  70.033447  68.662209  69.665550   \n",
       "4  2010-01-08    MMM  47.149204  70.501671  70.501671  69.648827  69.974915   \n",
       "\n",
       "      Volume  Price Change  Pct Change  Volatility  Cluster  \n",
       "0  3640265.0     -0.058525   -0.084241    0.652176        0  \n",
       "1  3405012.0     -0.250832   -0.362312    1.279266        0  \n",
       "2  6301126.0     -0.175591   -0.250365    0.911369        0  \n",
       "3  5346240.0      0.342812    0.492082    1.371239        0  \n",
       "4  4073337.0      0.526756    0.752779    0.852844        0  "
      ]
     },
     "execution_count": 11,
     "metadata": {},
     "output_type": "execute_result"
    }
   ],
   "source": [
    "# apply KMeans clustering with the optimal number of clusters\n",
    "kmeans = KMeans(n_clusters=4, random_state=42, n_init=10)\n",
    "kmeans.fit(scaled_features)\n",
    "\n",
    "# add the cluster labels to the original DataFrame\n",
    "df['Cluster'] = kmeans.labels_\n",
    "\n",
    "# display the first few rows with the cluster labels\n",
    "df.head()"
   ]
  },
  {
   "cell_type": "markdown",
   "id": "97346bcf",
   "metadata": {
    "papermill": {
     "duration": 0.010301,
     "end_time": "2024-09-19T00:27:24.779152",
     "exception": false,
     "start_time": "2024-09-19T00:27:24.768851",
     "status": "completed"
    },
    "tags": []
   },
   "source": [
    "# Visualization of Clusters\n",
    "\n",
    "***Now, we perform K-Means clustering to group the stocks into clusters based on the financial metrics.***"
   ]
  },
  {
   "cell_type": "markdown",
   "id": "182fc215",
   "metadata": {
    "papermill": {
     "duration": 0.010308,
     "end_time": "2024-09-19T00:27:24.799917",
     "exception": false,
     "start_time": "2024-09-19T00:27:24.789609",
     "status": "completed"
    },
    "tags": []
   },
   "source": [
    "# PCA"
   ]
  },
  {
   "cell_type": "markdown",
   "id": "aa2d0d8a",
   "metadata": {
    "papermill": {
     "duration": 0.010292,
     "end_time": "2024-09-19T00:27:24.820923",
     "exception": false,
     "start_time": "2024-09-19T00:27:24.810631",
     "status": "completed"
    },
    "tags": []
   },
   "source": [
    "* After performing PCA, the clusters identified by the KMeans algorithm are plotted in **2D space**, with colors representing different clusters.\n",
    "* The scatter plot shows **overlapping clusters, indicating that the separation between some clusters might not be distinct.**"
   ]
  },
  {
   "cell_type": "code",
   "execution_count": 12,
   "id": "7dc6950b",
   "metadata": {
    "execution": {
     "iopub.execute_input": "2024-09-19T00:27:24.844121Z",
     "iopub.status.busy": "2024-09-19T00:27:24.843380Z",
     "iopub.status.idle": "2024-09-19T00:27:55.829788Z",
     "shell.execute_reply": "2024-09-19T00:27:55.828526Z"
    },
    "papermill": {
     "duration": 31.015138,
     "end_time": "2024-09-19T00:27:55.846512",
     "exception": false,
     "start_time": "2024-09-19T00:27:24.831374",
     "status": "completed"
    },
    "tags": []
   },
   "outputs": [
    {
     "data": {
      "image/png": "[encoded data removed]",
      "text/plain": [
       "<Figure size 1000x700 with 1 Axes>"
      ]
     },
     "metadata": {},
     "output_type": "display_data"
    }
   ],
   "source": [
    "from sklearn.decomposition import PCA\n",
    "\n",
    "# Perform PCA to reduce to 2 dimensions for visualization\n",
    "pca = PCA(n_components=2)\n",
    "principal_components = pca.fit_transform(scaled_features)\n",
    "\n",
    "# Plot the clusters after PCA transformation\n",
    "plt.figure(figsize=(10, 7))\n",
    "plt.scatter(principal_components[:, 0], principal_components[:, 1], c=kmeans.labels_, cmap='plasma', s=5)\n",
    "plt.title('K-Means Clustering After PCA')\n",
    "plt.xlabel('Principal Component 1')\n",
    "plt.ylabel('Principal Component 2')\n",
    "plt.grid(True)\n",
    "plt.show()"
   ]
  },
  {
   "cell_type": "markdown",
   "id": "b8b8e5ee",
   "metadata": {
    "papermill": {
     "duration": 0.012482,
     "end_time": "2024-09-19T00:27:55.871957",
     "exception": false,
     "start_time": "2024-09-19T00:27:55.859475",
     "status": "completed"
    },
    "tags": []
   },
   "source": [
    "# Cluster Evaluation Metrics"
   ]
  },
  {
   "cell_type": "markdown",
   "id": "e3299d73",
   "metadata": {
    "papermill": {
     "duration": 0.012487,
     "end_time": "2024-09-19T00:27:55.897283",
     "exception": false,
     "start_time": "2024-09-19T00:27:55.884796",
     "status": "completed"
    },
    "tags": []
   },
   "source": [
    "**Davies-Bouldin Index (DBI):** This measures to evaluate cluster separation and compactness. Lower values indicate better clustering. A value of 0 means **perfect clustering**, where clusters are well-separated and compact.\n",
    "\n",
    "* **DBI < 1**: Generally indicates good clustering. Our score of 0.971 suggests that the clusters are distinct and not overly dispersed."
   ]
  },
  {
   "cell_type": "code",
   "execution_count": 13,
   "id": "b6981198",
   "metadata": {
    "execution": {
     "iopub.execute_input": "2024-09-19T00:27:55.925248Z",
     "iopub.status.busy": "2024-09-19T00:27:55.924778Z",
     "iopub.status.idle": "2024-09-19T00:27:56.264945Z",
     "shell.execute_reply": "2024-09-19T00:27:56.263239Z"
    },
    "papermill": {
     "duration": 0.359589,
     "end_time": "2024-09-19T00:27:56.269961",
     "exception": false,
     "start_time": "2024-09-19T00:27:55.910372",
     "status": "completed"
    },
    "tags": []
   },
   "outputs": [
    {
     "name": "stdout",
     "output_type": "stream",
     "text": [
      "Davies-Bouldin Index: 0.775\n"
     ]
    }
   ],
   "source": [
    "from sklearn.metrics import davies_bouldin_score\n",
    "\n",
    "# Compute Davies-Bouldin index\n",
    "db_score = davies_bouldin_score(scaled_features, kmeans.labels_)\n",
    "print(f'Davies-Bouldin Index: {db_score:.3f}')"
   ]
  }
 ],
 "metadata": {
  "kaggle": {
   "accelerator": "none",
   "dataSources": [
    {
     "datasetId": 1807380,
     "sourceId": 9422949,
     "sourceType": "datasetVersion"
    }
   ],
   "dockerImageVersionId": 30761,
   "isGpuEnabled": false,
   "isInternetEnabled": false,
   "language": "python",
   "sourceType": "notebook"
  },
  "kernelspec": {
   "display_name": "Python 3",
   "language": "python",
   "name": "python3"
  },
  "language_info": {
   "codemirror_mode": {
    "name": "ipython",
    "version": 3
   },
   "file_extension": ".py",
   "mimetype": "text/x-python",
   "name": "python",
   "nbconvert_exporter": "python",
   "pygments_lexer": "ipython3",
   "version": "3.10.14"
  },
  "papermill": {
   "default_parameters": {},
   "duration": 275.676309,
   "end_time": "2024-09-19T00:27:57.029585",
   "environment_variables": {},
   "exception": null,
   "input_path": "__notebook__.ipynb",
   "output_path": "__notebook__.ipynb",
   "parameters": {},
   "start_time": "2024-09-19T00:23:21.353276",
   "version": "2.6.0"
  }
 },
 "nbformat": 4,
 "nbformat_minor": 5
}
